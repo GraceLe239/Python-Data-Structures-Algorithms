{
 "cells": [
  {
   "cell_type": "markdown",
   "metadata": {},
   "source": [
    "# Quick Sort"
   ]
  },
  {
   "cell_type": "code",
   "execution_count": 5,
   "metadata": {},
   "outputs": [],
   "source": [
    "def QuickSort(arr): \n",
    "    QuickSortHelp(arr,0,len(arr)-1)\n",
    "    \n",
    "def QuickSortHelp(arr,first,last):\n",
    "    if first < last:\n",
    "        splitpoint = Partition(arr,first,last)\n",
    "        QuickSortHelp(arr,first,splitpoint)\n",
    "        QuickSortHelp(arr,splitpoint+1,last)\n",
    "    \n",
    "def Partition(arr,first,last): \n",
    "    pivotvalue = arr[first]\n",
    "    \n",
    "    leftmark = first + 1\n",
    "    rightmark = last\n",
    "    \n",
    "    done = False\n",
    "    \n",
    "    while not done: \n",
    "        while leftmark <= rightmark and arr[leftmark] <= pivotvalue: \n",
    "            leftmark += 1\n",
    "        while leftmark <= rightmark and arr[rightmark] >= pivotvalue:\n",
    "            rightmark -= 1\n",
    "        if rightmark < leftmark: \n",
    "            done = True\n",
    "        else: \n",
    "            arr[leftmark], arr[rightmark] = arr[rightmark], arr[leftmark]\n",
    "        \n",
    "    arr[first], arr[rightmark] = arr[rightmark], arr[first]\n",
    "    \n",
    "    return rightmark"
   ]
  },
  {
   "cell_type": "code",
   "execution_count": 6,
   "metadata": {},
   "outputs": [
    {
     "data": {
      "text/plain": [
       "[1, 2, 3, 4, 4, 5, 6, 7, 11, 12]"
      ]
     },
     "execution_count": 6,
     "metadata": {},
     "output_type": "execute_result"
    }
   ],
   "source": [
    "arr = [2,5,4,6,7,3,1,4,12,11]\n",
    "QuickSort(arr)\n",
    "arr"
   ]
  },
  {
   "cell_type": "code",
   "execution_count": null,
   "metadata": {},
   "outputs": [],
   "source": []
  }
 ],
 "metadata": {
  "kernelspec": {
   "display_name": "Python 3",
   "language": "python",
   "name": "python3"
  },
  "language_info": {
   "codemirror_mode": {
    "name": "ipython",
    "version": 3
   },
   "file_extension": ".py",
   "mimetype": "text/x-python",
   "name": "python",
   "nbconvert_exporter": "python",
   "pygments_lexer": "ipython3",
   "version": "3.8.5"
  }
 },
 "nbformat": 4,
 "nbformat_minor": 4
}
